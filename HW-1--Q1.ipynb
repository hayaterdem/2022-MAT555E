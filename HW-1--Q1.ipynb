{
 "cells": [
  {
   "cell_type": "code",
   "execution_count": 43,
   "id": "bb6be67a",
   "metadata": {
    "scrolled": true
   },
   "outputs": [
    {
     "name": "stdout",
     "output_type": "stream",
     "text": [
      "[[[290 381 585 ...  36  11  17]\n",
      "  [290 381 519 ...  36  11  15]\n",
      "  [290 381 585 ...  30  11  11]\n",
      "  ...\n",
      "  [373 482 594 ...   6   4   0]\n",
      "  [373 482 659 ...   0   0   5]\n",
      "  [305 393 655 ...   1   1  -3]]\n",
      "\n",
      " [[379 400 600 ...  32  11  15]\n",
      "  [308 400 535 ...  28  15  13]\n",
      "  [379 483 535 ...  26   5  15]\n",
      "  ...\n",
      "  [376 477 590 ...   3   0  -5]\n",
      "  [376 477 590 ...   7   0  13]\n",
      "  [305 393 655 ...   1   1  -3]]\n",
      "\n",
      " [[369 495 604 ...  29   9  17]\n",
      "  [298 411 604 ...  23   5  13]\n",
      "  [298 411 670 ...  27   7  13]\n",
      "  ...\n",
      "  [447 468 664 ...   4   7   0]\n",
      "  [305 468 664 ...  14   7   2]\n",
      "  [447 384 664 ...   6   1   4]]\n",
      "\n",
      " ...\n",
      "\n",
      " [[379 383 540 ...   6   5   9]\n",
      "  [308 383 540 ...   8   5   5]\n",
      "  [379 383 540 ...   4  -2   7]\n",
      "  ...\n",
      "  [367 387 661 ...  39  17  23]\n",
      "  [367 470 661 ...  43  15  23]\n",
      "  [438 470 596 ...  41  13  27]]\n",
      "\n",
      " [[314 479 604 ...   8   5   0]\n",
      "  [314 396 539 ...   4   3   2]\n",
      "  [385 396 539 ...   2   1   0]\n",
      "  ...\n",
      "  [367 387 661 ...  39  17  23]\n",
      "  [367 470 661 ...  43  15  23]\n",
      "  [376 489 674 ...  42  15  23]]\n",
      "\n",
      " [[371 400 605 ...   1   4   2]\n",
      "  [299 483 605 ...  11   2  11]\n",
      "  [299 400 540 ...  11   6  -3]\n",
      "  ...\n",
      "  [447 405 674 ...  42  11  23]\n",
      "  [447 405 674 ...  42  17  27]\n",
      "  [376 489 674 ...  42  15  23]]]\n",
      "salinas_gt= [[ 0  0  0 ...  0  0  0]\n",
      " [ 0  0  0 ...  0  0  0]\n",
      " [ 0  0  0 ...  0  0  0]\n",
      " ...\n",
      " [16 16 16 ...  0  0  0]\n",
      " [16 16 16 ...  0  0  0]\n",
      " [ 0  0  0 ...  0  0  0]]\n"
     ]
    },
    {
     "ename": "AttributeError",
     "evalue": "'dict' object has no attribute 'reshape'",
     "output_type": "error",
     "traceback": [
      "\u001b[1;31m---------------------------------------------------------------------------\u001b[0m",
      "\u001b[1;31mAttributeError\u001b[0m                            Traceback (most recent call last)",
      "\u001b[1;32mC:\\Users\\ERDEM~1.HAY\\AppData\\Local\\Temp/ipykernel_21104/3149040382.py\u001b[0m in \u001b[0;36m<module>\u001b[1;34m\u001b[0m\n\u001b[0;32m     15\u001b[0m \u001b[0mprint\u001b[0m\u001b[1;33m(\u001b[0m\u001b[1;34m\"salinas_gt=\"\u001b[0m\u001b[1;33m,\u001b[0m\u001b[0msalinas_gt\u001b[0m\u001b[1;33m[\u001b[0m\u001b[1;34m\"salinas_gt\"\u001b[0m\u001b[1;33m]\u001b[0m\u001b[1;33m)\u001b[0m\u001b[1;33m\u001b[0m\u001b[1;33m\u001b[0m\u001b[0m\n\u001b[0;32m     16\u001b[0m \u001b[1;33m\u001b[0m\u001b[0m\n\u001b[1;32m---> 17\u001b[1;33m \u001b[0mX\u001b[0m \u001b[1;33m=\u001b[0m \u001b[0msalinas\u001b[0m\u001b[1;33m.\u001b[0m\u001b[0mreshape\u001b[0m\u001b[1;33m(\u001b[0m\u001b[1;36m145\u001b[0m\u001b[1;33m*\u001b[0m\u001b[1;36m145\u001b[0m\u001b[1;33m,\u001b[0m\u001b[1;36m220\u001b[0m\u001b[1;33m)\u001b[0m\u001b[1;33m\u001b[0m\u001b[1;33m\u001b[0m\u001b[0m\n\u001b[0m\u001b[0;32m     18\u001b[0m \u001b[1;33m\u001b[0m\u001b[0m\n\u001b[0;32m     19\u001b[0m \u001b[0mX_train\u001b[0m\u001b[1;33m,\u001b[0m \u001b[0mX_test\u001b[0m\u001b[1;33m,\u001b[0m \u001b[0my_train\u001b[0m\u001b[1;33m,\u001b[0m \u001b[0my_test\u001b[0m \u001b[1;33m=\u001b[0m \u001b[0mtrain_test_split\u001b[0m\u001b[1;33m(\u001b[0m\u001b[0mX\u001b[0m\u001b[1;33m,\u001b[0m\u001b[0my\u001b[0m\u001b[1;33m,\u001b[0m\u001b[0mtrain_size\u001b[0m\u001b[1;33m=\u001b[0m\u001b[1;36m0.8\u001b[0m\u001b[1;33m)\u001b[0m\u001b[1;33m\u001b[0m\u001b[1;33m\u001b[0m\u001b[0m\n",
      "\u001b[1;31mAttributeError\u001b[0m: 'dict' object has no attribute 'reshape'"
     ]
    }
   ],
   "source": [
    "import numpy as np\n",
    "from scipy.io import loadmat\n",
    "from scipy.optimize import linear_sum_assignment\n",
    "import matplotlib.pyplot as plt\n",
    "from scipy.io import loadmat\n",
    "from sklearn.model_selection import train_test_split\n",
    "from sklearn.metrics import confusion_matrix, accuracy_score\n",
    "from sklearn.neighbors import KNeighborsClassifier\n",
    "from sklearn.cluster import KMeans, DBSCAN, AgglomerativeClustering\n",
    "from scipy.stats import chisquare\n",
    "\n",
    "salinas = loadmat(r\"C:\\Users\\erdem.hayat\\Desktop\\Masaüstü\\Üni\\İTÜ\\Statistical Data Analyses for Computational Science\\Salinas_corrected.mat\")\n",
    "print(salinas[\"salinas_corrected\"])\n",
    "salinas_gt = loadmat(r\"C:\\Users\\erdem.hayat\\Desktop\\Masaüstü\\Üni\\İTÜ\\Statistical Data Analyses for Computational Science\\Salinas_gt.mat\")\n",
    "print(\"salinas_gt=\",salinas_gt[\"salinas_gt\"])\n",
    "\n",
    "X = salinas.reshape(145*145,220)\n",
    "\n",
    "X_train, X_test, y_train, y_test = train_test_split(X,y,train_size=0.8)"
   ]
  },
  {
   "cell_type": "code",
   "execution_count": null,
   "id": "6c0e5f93",
   "metadata": {},
   "outputs": [],
   "source": []
  }
 ],
 "metadata": {
  "kernelspec": {
   "display_name": "Python 3 (ipykernel)",
   "language": "python",
   "name": "python3"
  },
  "language_info": {
   "codemirror_mode": {
    "name": "ipython",
    "version": 3
   },
   "file_extension": ".py",
   "mimetype": "text/x-python",
   "name": "python",
   "nbconvert_exporter": "python",
   "pygments_lexer": "ipython3",
   "version": "3.9.7"
  }
 },
 "nbformat": 4,
 "nbformat_minor": 5
}
